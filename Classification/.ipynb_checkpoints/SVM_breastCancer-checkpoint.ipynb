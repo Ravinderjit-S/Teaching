{
 "cells": [
  {
   "cell_type": "markdown",
   "id": "novel-expansion",
   "metadata": {},
   "source": [
    "## Apply SVM to Wisconsin breast cancer dataset\n",
    "Dataset is included with ```sklearn``` but comes from:\n",
    "W.H. Wolberg, W.N. Street, D.M. Heisey, and O.L. Mangasarian. Computer-derived nuclear features distinguish malignant from benign breast cytology. Human Pathology, 26:792--796, 1995.\n",
    "\n",
    "Here, fine-needle aspirates (FNA; a type of biopsy) of breast mass are obtained, imaged, and the digitized images are processed to extract features pertaining to the characteristics of the cell nuclei present in the image. The goal is to classify each biopsy as **malignant** or **benign** based on the image.\n",
    "\n",
    "Ten real-valued features are computed for each cell nucleus:\n",
    "- radius (mean of distances from center to points on the perimeter)\n",
    "- texture (standard deviation of gray-scale values)\n",
    "- perimeter\n",
    "- area\n",
    "- smoothness (local variation in radius lengths)\n",
    "- compactness (perimeter^2 / area - 1.0)\n",
    "- concavity (severity of concave portions of the contour)\n",
    "- concave points (number of concave portions of the contour)\n",
    "- symmetry\n",
    "- fractal dimension (\"coastline approximation\" - 1)\n",
    "\n",
    "For each image, across nuceli, the mean, standard error,\n",
    "and \"worst\" or largest (mean of the three largest values) of these features were computed. This yields **30 features per sample**.\n",
    "For instance, field 3 is Mean Radius, field\n",
    "13 is Radius SE, field 23 is Worst Radius."
   ]
  },
  {
   "cell_type": "code",
   "execution_count": 18,
   "id": "engaging-oxford",
   "metadata": {},
   "outputs": [],
   "source": [
    "import numpy as np\n",
    "from sklearn.datasets import load_breast_cancer\n",
    "from sklearn.model_selection import train_test_split\n",
    "import matplotlib.pyplot as plt\n",
    "from sklearn.svm import SVC\n",
    "from sklearn.preprocessing import StandardScaler\n",
    "from sklearn.decomposition import PCA\n"
   ]
  },
  {
   "cell_type": "code",
   "execution_count": 4,
   "id": "unknown-google",
   "metadata": {},
   "outputs": [],
   "source": [
    "#Functions from last time to visualize classifier boundaries\n",
    "def make_meshgrid(X, ngrid=100, slack=0.2):\n",
    "    if len(X.shape) > 2:\n",
    "        warnings.warn('Grid visualization only work for 2D or less!')\n",
    "    xmin, xmax = X[:, 0].min(),  X[:, 0].max()\n",
    "    ymin, ymax = X[:, 1].min(),  X[:, 1].max()\n",
    "    \n",
    "    # Apply some slack so points are are not near the edge\n",
    "    xmin *= 1 - np.sign(xmin) * slack\n",
    "    xmax *= 1 + np.sign(xmax) * slack\n",
    "    ymin *= 1 - np.sign(ymin) * slack\n",
    "    ymax *= 1 + np.sign(ymax) * slack\n",
    "    \n",
    "    dx = (xmax - xmin) / ngrid\n",
    "    dy = (ymax - ymin) / ngrid\n",
    "    x = np.arange(xmin, xmax, dx)\n",
    "    y = np.arange(ymin, ymax, dy)\n",
    "    xx, yy = np.meshgrid(x, y)\n",
    "    return (xx, yy)\n",
    "\n",
    "\n",
    "def plot_decision(xx, yy, clf, **params):\n",
    "    Z = clf.predict(np.c_[xx.ravel(), yy.ravel()])\n",
    "    Z = Z.reshape(xx.shape)\n",
    "    out = plt.contourf(xx, yy, Z, **params)\n",
    "    return out"
   ]
  },
  {
   "cell_type": "markdown",
   "id": "built-excess",
   "metadata": {},
   "source": [
    "### Load Data and view first few points"
   ]
  },
  {
   "cell_type": "code",
   "execution_count": 13,
   "id": "desirable-martin",
   "metadata": {},
   "outputs": [
    {
     "name": "stdout",
     "output_type": "stream",
     "text": [
      "This data has 569 data points with 30 features\n",
      "Lets look at 5 samples in columns\n"
     ]
    },
    {
     "data": {
      "text/plain": [
       "array([[1.799e+01, 2.057e+01, 1.969e+01, 1.142e+01, 2.029e+01],\n",
       "       [1.038e+01, 1.777e+01, 2.125e+01, 2.038e+01, 1.434e+01],\n",
       "       [1.228e+02, 1.329e+02, 1.300e+02, 7.758e+01, 1.351e+02],\n",
       "       [1.001e+03, 1.326e+03, 1.203e+03, 3.861e+02, 1.297e+03],\n",
       "       [1.184e-01, 8.474e-02, 1.096e-01, 1.425e-01, 1.003e-01],\n",
       "       [2.776e-01, 7.864e-02, 1.599e-01, 2.839e-01, 1.328e-01],\n",
       "       [3.001e-01, 8.690e-02, 1.974e-01, 2.414e-01, 1.980e-01],\n",
       "       [1.471e-01, 7.017e-02, 1.279e-01, 1.052e-01, 1.043e-01],\n",
       "       [2.419e-01, 1.812e-01, 2.069e-01, 2.597e-01, 1.809e-01],\n",
       "       [7.871e-02, 5.667e-02, 5.999e-02, 9.744e-02, 5.883e-02],\n",
       "       [1.095e+00, 5.435e-01, 7.456e-01, 4.956e-01, 7.572e-01],\n",
       "       [9.053e-01, 7.339e-01, 7.869e-01, 1.156e+00, 7.813e-01],\n",
       "       [8.589e+00, 3.398e+00, 4.585e+00, 3.445e+00, 5.438e+00],\n",
       "       [1.534e+02, 7.408e+01, 9.403e+01, 2.723e+01, 9.444e+01],\n",
       "       [6.399e-03, 5.225e-03, 6.150e-03, 9.110e-03, 1.149e-02],\n",
       "       [4.904e-02, 1.308e-02, 4.006e-02, 7.458e-02, 2.461e-02],\n",
       "       [5.373e-02, 1.860e-02, 3.832e-02, 5.661e-02, 5.688e-02],\n",
       "       [1.587e-02, 1.340e-02, 2.058e-02, 1.867e-02, 1.885e-02],\n",
       "       [3.003e-02, 1.389e-02, 2.250e-02, 5.963e-02, 1.756e-02],\n",
       "       [6.193e-03, 3.532e-03, 4.571e-03, 9.208e-03, 5.115e-03],\n",
       "       [2.538e+01, 2.499e+01, 2.357e+01, 1.491e+01, 2.254e+01],\n",
       "       [1.733e+01, 2.341e+01, 2.553e+01, 2.650e+01, 1.667e+01],\n",
       "       [1.846e+02, 1.588e+02, 1.525e+02, 9.887e+01, 1.522e+02],\n",
       "       [2.019e+03, 1.956e+03, 1.709e+03, 5.677e+02, 1.575e+03],\n",
       "       [1.622e-01, 1.238e-01, 1.444e-01, 2.098e-01, 1.374e-01],\n",
       "       [6.656e-01, 1.866e-01, 4.245e-01, 8.663e-01, 2.050e-01],\n",
       "       [7.119e-01, 2.416e-01, 4.504e-01, 6.869e-01, 4.000e-01],\n",
       "       [2.654e-01, 1.860e-01, 2.430e-01, 2.575e-01, 1.625e-01],\n",
       "       [4.601e-01, 2.750e-01, 3.613e-01, 6.638e-01, 2.364e-01],\n",
       "       [1.189e-01, 8.902e-02, 8.758e-02, 1.730e-01, 7.678e-02]])"
      ]
     },
     "execution_count": 13,
     "metadata": {},
     "output_type": "execute_result"
    }
   ],
   "source": [
    "dat = load_breast_cancer()\n",
    "X = dat.data\n",
    "y = dat.target\n",
    "\n",
    "print('This data has ' + str(X.shape[0]) + ' data points with ' + str(X.shape[1]) + ' features')  \n",
    "\n",
    "print('Lets look at 5 samples in columns')\n",
    "X[:5,:].T\n"
   ]
  },
  {
   "cell_type": "markdown",
   "id": "finite-addition",
   "metadata": {},
   "source": [
    "### Preprocessing: Normalize Features and Reduce Dimensionality"
   ]
  },
  {
   "cell_type": "code",
   "execution_count": 34,
   "id": "limited-greek",
   "metadata": {},
   "outputs": [
    {
     "name": "stdout",
     "output_type": "stream",
     "text": [
      "Our 2 principal components can explain 63.2% of the variance \n",
      "\n",
      "Variance explained by each principal componenet:[0.44272026 0.18971182]\n"
     ]
    }
   ],
   "source": [
    "X = StandardScaler().fit_transform(X) #Z-score data\n",
    "\n",
    "#PCA\n",
    "pc = PCA(n_components=2)\n",
    "X_pc = pc.fit_transform(X)\n",
    "var_exp = pc.explained_variance_ratio_.sum() * 100\n",
    "\n",
    "print('Our ' + str(X_pc.shape[1]) + ' principal components can explain ' + str(np.round(var_exp*10)/10) + '% of the variance \\n')\n",
    "print('Variance explained by each principal componenet:' + str(pc.explained_variance_ratio_))\n"
   ]
  },
  {
   "cell_type": "markdown",
   "id": "stuck-hello",
   "metadata": {},
   "source": [
    "### View data in our transformed space"
   ]
  },
  {
   "cell_type": "code",
   "execution_count": 39,
   "id": "interpreted-verification",
   "metadata": {},
   "outputs": [
    {
     "data": {
      "text/plain": [
       "Text(0, 0.5, 'PC2')"
      ]
     },
     "execution_count": 39,
     "metadata": {},
     "output_type": "execute_result"
    },
    {
     "data": {
      "image/png": "[encoded data removed]",
      "text/plain": [
       "<Figure size 432x288 with 1 Axes>"
      ]
     },
     "metadata": {
      "needs_background": "light"
     },
     "output_type": "display_data"
    }
   ],
   "source": [
    "plt.figure()\n",
    "plt.scatter(X_pc[y.astype(bool),0],X_pc[y.astype(bool),1],s=100)\n",
    "plt.scatter(X_pc[~y.astype(bool),0],X_pc[~y.astype(bool),1],s=100)\n",
    "plt.xlabel('PC1')\n",
    "plt.ylabel('PC2')\n"
   ]
  },
  {
   "cell_type": "markdown",
   "id": "whole-bowling",
   "metadata": {},
   "source": [
    "### Split data into test and train sets"
   ]
  },
  {
   "cell_type": "code",
   "execution_count": 38,
   "id": "pediatric-russian",
   "metadata": {},
   "outputs": [],
   "source": [
    "X_train, X_test, y_train, y_test = train_test_split(X_pc, y, train_size=0.70)"
   ]
  },
  {
   "cell_type": "code",
   "execution_count": null,
   "id": "enhanced-stevens",
   "metadata": {},
   "outputs": [],
   "source": [
    "clf = svm.SVC(kernel='rbf', gamma=.02,C=1)"
   ]
  }
 ],
 "metadata": {
  "kernelspec": {
   "display_name": "Python 3",
   "language": "python",
   "name": "python3"
  },
  "language_info": {
   "codemirror_mode": {
    "name": "ipython",
    "version": 3
   },
   "file_extension": ".py",
   "mimetype": "text/x-python",
   "name": "python",
   "nbconvert_exporter": "python",
   "pygments_lexer": "ipython3",
   "version": "3.7.9"
  }
 },
 "nbformat": 4,
 "nbformat_minor": 5
}
